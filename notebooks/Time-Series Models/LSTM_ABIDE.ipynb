{
  "nbformat": 4,
  "nbformat_minor": 0,
  "metadata": {
    "colab": {
      "name": "LSTM_ABIDE.ipynb",
      "provenance": [],
      "collapsed_sections": [],
      "machine_shape": "hm"
    },
    "kernelspec": {
      "name": "python3",
      "display_name": "Python 3"
    },
    "language_info": {
      "name": "python"
    },
    "accelerator": "GPU"
  },
  "cells": [
    {
      "cell_type": "markdown",
      "metadata": {
        "id": "2E0cScWlTZlQ"
      },
      "source": [
        "# Classification based on ABIDE Pre-processed Dataset. \n",
        "This is a classification based on machine learning models. Here we try to classify three different things. We can see these three areas as mentione below:-\n",
        "\n",
        "\n",
        "\n",
        "1.   Classification of the ABIDE Pre-processed data for the classification of Autistic Patients\n",
        "2.   Classification of the symptom the person is experiencing right now\n",
        "\n",
        "NOTE this data is only Focused on DX_GROUP being 1,2. If we need any other phenotype we might have to add those to the menu as well.\n",
        "\n"
      ]
    },
    {
      "cell_type": "code",
      "metadata": {
        "colab": {
          "base_uri": "https://localhost:8080/"
        },
        "id": "T-3Xdcz73v6m",
        "outputId": "bf4bd62e-174c-481e-fa87-9b383e251900"
      },
      "source": [
        "from google.colab import drive\n",
        "drive.mount('/content/drive')"
      ],
      "execution_count": null,
      "outputs": [
        {
          "output_type": "stream",
          "name": "stdout",
          "text": [
            "Mounted at /content/drive\n"
          ]
        }
      ]
    },
    {
      "cell_type": "code",
      "metadata": {
        "colab": {
          "base_uri": "https://localhost:8080/"
        },
        "id": "pZqSSuKKLp62",
        "outputId": "0afb055b-e2eb-4c40-85f0-f60bdc7dd19f"
      },
      "source": [
        "!pip install nilearn"
      ],
      "execution_count": null,
      "outputs": [
        {
          "output_type": "stream",
          "name": "stdout",
          "text": [
            "Collecting nilearn\n",
            "  Downloading nilearn-0.8.1-py3-none-any.whl (10.0 MB)\n",
            "\u001b[K     |████████████████████████████████| 10.0 MB 9.1 MB/s \n",
            "\u001b[?25hRequirement already satisfied: scipy>=1.2 in /usr/local/lib/python3.7/dist-packages (from nilearn) (1.4.1)\n",
            "Requirement already satisfied: scikit-learn>=0.21 in /usr/local/lib/python3.7/dist-packages (from nilearn) (1.0.1)\n",
            "Requirement already satisfied: pandas>=0.24.0 in /usr/local/lib/python3.7/dist-packages (from nilearn) (1.1.5)\n",
            "Requirement already satisfied: requests>=2 in /usr/local/lib/python3.7/dist-packages (from nilearn) (2.23.0)\n",
            "Requirement already satisfied: numpy>=1.16 in /usr/local/lib/python3.7/dist-packages (from nilearn) (1.19.5)\n",
            "Requirement already satisfied: nibabel>=2.5 in /usr/local/lib/python3.7/dist-packages (from nilearn) (3.0.2)\n",
            "Requirement already satisfied: joblib>=0.12 in /usr/local/lib/python3.7/dist-packages (from nilearn) (1.1.0)\n",
            "Requirement already satisfied: pytz>=2017.2 in /usr/local/lib/python3.7/dist-packages (from pandas>=0.24.0->nilearn) (2018.9)\n",
            "Requirement already satisfied: python-dateutil>=2.7.3 in /usr/local/lib/python3.7/dist-packages (from pandas>=0.24.0->nilearn) (2.8.2)\n",
            "Requirement already satisfied: six>=1.5 in /usr/local/lib/python3.7/dist-packages (from python-dateutil>=2.7.3->pandas>=0.24.0->nilearn) (1.15.0)\n",
            "Requirement already satisfied: certifi>=2017.4.17 in /usr/local/lib/python3.7/dist-packages (from requests>=2->nilearn) (2021.10.8)\n",
            "Requirement already satisfied: chardet<4,>=3.0.2 in /usr/local/lib/python3.7/dist-packages (from requests>=2->nilearn) (3.0.4)\n",
            "Requirement already satisfied: urllib3!=1.25.0,!=1.25.1,<1.26,>=1.21.1 in /usr/local/lib/python3.7/dist-packages (from requests>=2->nilearn) (1.24.3)\n",
            "Requirement already satisfied: idna<3,>=2.5 in /usr/local/lib/python3.7/dist-packages (from requests>=2->nilearn) (2.10)\n",
            "Requirement already satisfied: threadpoolctl>=2.0.0 in /usr/local/lib/python3.7/dist-packages (from scikit-learn>=0.21->nilearn) (3.0.0)\n",
            "Installing collected packages: nilearn\n",
            "Successfully installed nilearn-0.8.1\n"
          ]
        }
      ]
    },
    {
      "cell_type": "code",
      "metadata": {
        "colab": {
          "base_uri": "https://localhost:8080/"
        },
        "id": "nQXTCJkX1ISD",
        "outputId": "4a5e6480-31a9-4596-91ab-bb8ee7ab0790"
      },
      "source": [
        "!pip install keras-tuner"
      ],
      "execution_count": null,
      "outputs": [
        {
          "output_type": "stream",
          "name": "stdout",
          "text": [
            "Collecting keras-tuner\n",
            "  Downloading keras_tuner-1.1.0-py3-none-any.whl (98 kB)\n",
            "\u001b[?25l\r\u001b[K     |███▍                            | 10 kB 39.0 MB/s eta 0:00:01\r\u001b[K     |██████▊                         | 20 kB 32.2 MB/s eta 0:00:01\r\u001b[K     |██████████                      | 30 kB 19.8 MB/s eta 0:00:01\r\u001b[K     |█████████████▍                  | 40 kB 16.7 MB/s eta 0:00:01\r\u001b[K     |████████████████▊               | 51 kB 8.8 MB/s eta 0:00:01\r\u001b[K     |████████████████████            | 61 kB 8.8 MB/s eta 0:00:01\r\u001b[K     |███████████████████████▍        | 71 kB 9.0 MB/s eta 0:00:01\r\u001b[K     |██████████████████████████▊     | 81 kB 10.0 MB/s eta 0:00:01\r\u001b[K     |██████████████████████████████  | 92 kB 10.3 MB/s eta 0:00:01\r\u001b[K     |████████████████████████████████| 98 kB 5.1 MB/s \n",
            "\u001b[?25hRequirement already satisfied: packaging in /usr/local/lib/python3.7/dist-packages (from keras-tuner) (21.3)\n",
            "Requirement already satisfied: requests in /usr/local/lib/python3.7/dist-packages (from keras-tuner) (2.23.0)\n",
            "Requirement already satisfied: numpy in /usr/local/lib/python3.7/dist-packages (from keras-tuner) (1.19.5)\n",
            "Requirement already satisfied: tensorboard in /usr/local/lib/python3.7/dist-packages (from keras-tuner) (2.7.0)\n",
            "Requirement already satisfied: ipython in /usr/local/lib/python3.7/dist-packages (from keras-tuner) (5.5.0)\n",
            "Collecting kt-legacy\n",
            "  Downloading kt_legacy-1.0.4-py3-none-any.whl (9.6 kB)\n",
            "Requirement already satisfied: scipy in /usr/local/lib/python3.7/dist-packages (from keras-tuner) (1.4.1)\n",
            "Requirement already satisfied: pexpect in /usr/local/lib/python3.7/dist-packages (from ipython->keras-tuner) (4.8.0)\n",
            "Requirement already satisfied: setuptools>=18.5 in /usr/local/lib/python3.7/dist-packages (from ipython->keras-tuner) (57.4.0)\n",
            "Requirement already satisfied: traitlets>=4.2 in /usr/local/lib/python3.7/dist-packages (from ipython->keras-tuner) (5.1.1)\n",
            "Requirement already satisfied: pickleshare in /usr/local/lib/python3.7/dist-packages (from ipython->keras-tuner) (0.7.5)\n",
            "Requirement already satisfied: prompt-toolkit<2.0.0,>=1.0.4 in /usr/local/lib/python3.7/dist-packages (from ipython->keras-tuner) (1.0.18)\n",
            "Requirement already satisfied: pygments in /usr/local/lib/python3.7/dist-packages (from ipython->keras-tuner) (2.6.1)\n",
            "Requirement already satisfied: simplegeneric>0.8 in /usr/local/lib/python3.7/dist-packages (from ipython->keras-tuner) (0.8.1)\n",
            "Requirement already satisfied: decorator in /usr/local/lib/python3.7/dist-packages (from ipython->keras-tuner) (4.4.2)\n",
            "Requirement already satisfied: six>=1.9.0 in /usr/local/lib/python3.7/dist-packages (from prompt-toolkit<2.0.0,>=1.0.4->ipython->keras-tuner) (1.15.0)\n",
            "Requirement already satisfied: wcwidth in /usr/local/lib/python3.7/dist-packages (from prompt-toolkit<2.0.0,>=1.0.4->ipython->keras-tuner) (0.2.5)\n",
            "Requirement already satisfied: pyparsing!=3.0.5,>=2.0.2 in /usr/local/lib/python3.7/dist-packages (from packaging->keras-tuner) (3.0.6)\n",
            "Requirement already satisfied: ptyprocess>=0.5 in /usr/local/lib/python3.7/dist-packages (from pexpect->ipython->keras-tuner) (0.7.0)\n",
            "Requirement already satisfied: certifi>=2017.4.17 in /usr/local/lib/python3.7/dist-packages (from requests->keras-tuner) (2021.10.8)\n",
            "Requirement already satisfied: urllib3!=1.25.0,!=1.25.1,<1.26,>=1.21.1 in /usr/local/lib/python3.7/dist-packages (from requests->keras-tuner) (1.24.3)\n",
            "Requirement already satisfied: idna<3,>=2.5 in /usr/local/lib/python3.7/dist-packages (from requests->keras-tuner) (2.10)\n",
            "Requirement already satisfied: chardet<4,>=3.0.2 in /usr/local/lib/python3.7/dist-packages (from requests->keras-tuner) (3.0.4)\n",
            "Requirement already satisfied: grpcio>=1.24.3 in /usr/local/lib/python3.7/dist-packages (from tensorboard->keras-tuner) (1.42.0)\n",
            "Requirement already satisfied: wheel>=0.26 in /usr/local/lib/python3.7/dist-packages (from tensorboard->keras-tuner) (0.37.0)\n",
            "Requirement already satisfied: markdown>=2.6.8 in /usr/local/lib/python3.7/dist-packages (from tensorboard->keras-tuner) (3.3.6)\n",
            "Requirement already satisfied: absl-py>=0.4 in /usr/local/lib/python3.7/dist-packages (from tensorboard->keras-tuner) (0.12.0)\n",
            "Requirement already satisfied: protobuf>=3.6.0 in /usr/local/lib/python3.7/dist-packages (from tensorboard->keras-tuner) (3.17.3)\n",
            "Requirement already satisfied: tensorboard-plugin-wit>=1.6.0 in /usr/local/lib/python3.7/dist-packages (from tensorboard->keras-tuner) (1.8.0)\n",
            "Requirement already satisfied: werkzeug>=0.11.15 in /usr/local/lib/python3.7/dist-packages (from tensorboard->keras-tuner) (1.0.1)\n",
            "Requirement already satisfied: google-auth<3,>=1.6.3 in /usr/local/lib/python3.7/dist-packages (from tensorboard->keras-tuner) (1.35.0)\n",
            "Requirement already satisfied: tensorboard-data-server<0.7.0,>=0.6.0 in /usr/local/lib/python3.7/dist-packages (from tensorboard->keras-tuner) (0.6.1)\n",
            "Requirement already satisfied: google-auth-oauthlib<0.5,>=0.4.1 in /usr/local/lib/python3.7/dist-packages (from tensorboard->keras-tuner) (0.4.6)\n",
            "Requirement already satisfied: cachetools<5.0,>=2.0.0 in /usr/local/lib/python3.7/dist-packages (from google-auth<3,>=1.6.3->tensorboard->keras-tuner) (4.2.4)\n",
            "Requirement already satisfied: pyasn1-modules>=0.2.1 in /usr/local/lib/python3.7/dist-packages (from google-auth<3,>=1.6.3->tensorboard->keras-tuner) (0.2.8)\n",
            "Requirement already satisfied: rsa<5,>=3.1.4 in /usr/local/lib/python3.7/dist-packages (from google-auth<3,>=1.6.3->tensorboard->keras-tuner) (4.7.2)\n",
            "Requirement already satisfied: requests-oauthlib>=0.7.0 in /usr/local/lib/python3.7/dist-packages (from google-auth-oauthlib<0.5,>=0.4.1->tensorboard->keras-tuner) (1.3.0)\n",
            "Requirement already satisfied: importlib-metadata>=4.4 in /usr/local/lib/python3.7/dist-packages (from markdown>=2.6.8->tensorboard->keras-tuner) (4.8.2)\n",
            "Requirement already satisfied: typing-extensions>=3.6.4 in /usr/local/lib/python3.7/dist-packages (from importlib-metadata>=4.4->markdown>=2.6.8->tensorboard->keras-tuner) (3.10.0.2)\n",
            "Requirement already satisfied: zipp>=0.5 in /usr/local/lib/python3.7/dist-packages (from importlib-metadata>=4.4->markdown>=2.6.8->tensorboard->keras-tuner) (3.6.0)\n",
            "Requirement already satisfied: pyasn1<0.5.0,>=0.4.6 in /usr/local/lib/python3.7/dist-packages (from pyasn1-modules>=0.2.1->google-auth<3,>=1.6.3->tensorboard->keras-tuner) (0.4.8)\n",
            "Requirement already satisfied: oauthlib>=3.0.0 in /usr/local/lib/python3.7/dist-packages (from requests-oauthlib>=0.7.0->google-auth-oauthlib<0.5,>=0.4.1->tensorboard->keras-tuner) (3.1.1)\n",
            "Installing collected packages: kt-legacy, keras-tuner\n",
            "Successfully installed keras-tuner-1.1.0 kt-legacy-1.0.4\n"
          ]
        }
      ]
    },
    {
      "cell_type": "code",
      "metadata": {
        "id": "bCsEufWjLTnU",
        "colab": {
          "base_uri": "https://localhost:8080/"
        },
        "outputId": "1bb5355b-e760-4d9b-8960-3c3096b81055"
      },
      "source": [
        "# importing all the required libraries\n",
        "import pandas as pd\n",
        "import numpy as np\n",
        "\n",
        "# For NiLearn\n",
        "from nilearn import datasets\n",
        "from nilearn import plotting\n",
        "from nilearn import image\n",
        "from nilearn.input_data import NiftiLabelsMasker\n",
        "from nilearn.connectome import ConnectivityMeasure\n",
        "\n",
        "# For Plotting\n",
        "import matplotlib.pyplot as plt\n",
        "import seaborn as sns\n",
        "import numpy as np\n",
        "# Form sklearn\n",
        "from sklearn.metrics import accuracy_score, classification_report\n",
        "from sklearn.tree import DecisionTreeClassifier\n",
        "from sklearn.ensemble import RandomForestClassifier, AdaBoostClassifier\n",
        "from sklearn.neural_network import MLPClassifier\n",
        "from sklearn.linear_model import SGDClassifier\n",
        "from sklearn.svm import SVC\n",
        "from sklearn.naive_bayes import GaussianNB\n",
        "from sklearn.neighbors import KNeighborsClassifier\n",
        "from sklearn.gaussian_process import GaussianProcessClassifier\n",
        "from sklearn.naive_bayes import MultinomialNB\n",
        "from sklearn.gaussian_process.kernels import RBF\n",
        "from sklearn.discriminant_analysis import QuadraticDiscriminantAnalysis\n",
        "from sklearn.model_selection import train_test_split\n",
        "from sklearn.metrics import f1_score\n",
        "from sklearn.metrics import plot_confusion_matrix, confusion_matrix, precision_recall_curve, recall_score, precision_score, precision_recall_curve, roc_curve, auc\n",
        "from sklearn.model_selection import cross_val_predict, cross_val_score\n",
        "\n",
        "from prettytable import PrettyTable\n",
        "from matplotlib.colors import ListedColormap\n",
        "import time as time\n",
        "from joblib import dump, load\n",
        "import tensorflow as tf\n",
        "from kerastuner.tuners import RandomSearch\n",
        "from tensorflow import keras\n",
        "from tensorflow.keras import layers\n",
        "from keras.models import load_model\n",
        "from keras.models import Model\n",
        "from keras.layers import Input, Dense\n",
        "from keras.layers import LSTM, Bidirectional\n",
        "from keras import optimizers\n",
        "from keras import utils"
      ],
      "execution_count": null,
      "outputs": [
        {
          "output_type": "stream",
          "name": "stderr",
          "text": [
            "/usr/local/lib/python3.7/dist-packages/nilearn/datasets/__init__.py:96: FutureWarning: Fetchers from the nilearn.datasets module will be updated in version 0.9 to return python strings instead of bytes and Pandas dataframes instead of Numpy arrays.\n",
            "  \"Numpy arrays.\", FutureWarning)\n",
            "/usr/local/lib/python3.7/dist-packages/ipykernel_launcher.py:39: DeprecationWarning: `import kerastuner` is deprecated, please use `import keras_tuner`.\n"
          ]
        }
      ]
    },
    {
      "cell_type": "markdown",
      "metadata": {
        "id": "HknPNhiSxXOG"
      },
      "source": [
        "## Constant Declarations"
      ]
    },
    {
      "cell_type": "code",
      "metadata": {
        "id": "dGLJoaILNQ1p"
      },
      "source": [
        "  # Parameters for the sample size and study\n",
        "n_subjects = 40\n",
        "DX_GROUP = {1,2}\n",
        "DSM_IV_TR = [0,1,2,3,4]\n",
        "  #data_dir = '/content/drive/Shareddrives/Final Project/Colabs/Data/ABIDE_NILEARN'\n",
        "data_dir='/content/drive/Shareddrives/Final Project/FmriTrainTestData'\n",
        "  #PRE_PROCESSED_FEATURE_DATA = '/content/drive/Shareddrives/Final Project/Colabs/Data/ABIDE_NILEARN/ABIDE_PREPROCESSED_DATA_FEATURES_EXTRACTED'\n",
        "PRE_PROCESSED_FEATURE_DATA ='/content/drive/Shareddrives/Final Project/FmriTrainTestData/ABIDE_FEATURE_SET'\n",
        "LABEL_DATA='/content/drive/Shareddrives/Final Project/FmriTrainTestData/ABIDE_LABELS'\n",
        "MODEL_STORAGE_PATH = '/content/drive/Shareddrives/Final Project/Colabs/Machine Learning Deep Learning/Models/Pre_Processed_ABIDE_Model'"
      ],
      "execution_count": null,
      "outputs": []
    },
    {
      "cell_type": "code",
      "metadata": {
        "id": "XJDiZn9KmDN5"
      },
      "source": [
        "X_features = np.load(PRE_PROCESSED_FEATURE_DATA+'.npz')['a']"
      ],
      "execution_count": null,
      "outputs": []
    },
    {
      "cell_type": "code",
      "metadata": {
        "id": "XLT5O6ykmF0_"
      },
      "source": [
        "all_subjects_data_reshaped=np.array(X_features)\n",
        "all_subjects_data_reshaped"
      ],
      "execution_count": null,
      "outputs": []
    },
    {
      "cell_type": "code",
      "metadata": {
        "id": "YfJiij7JmLHo"
      },
      "source": [
        "labels_ndarray = np.load(LABEL_DATA+'.npz')['a']"
      ],
      "execution_count": null,
      "outputs": []
    },
    {
      "cell_type": "code",
      "metadata": {
        "colab": {
          "base_uri": "https://localhost:8080/"
        },
        "id": "uMruSLPmpFw5",
        "outputId": "9db61a83-5c80-4965-e57d-458a9c31f5a5"
      },
      "source": [
        "type(labels_ndarray)"
      ],
      "execution_count": null,
      "outputs": [
        {
          "output_type": "execute_result",
          "data": {
            "text/plain": [
              "numpy.ndarray"
            ]
          },
          "metadata": {},
          "execution_count": 19
        }
      ]
    },
    {
      "cell_type": "code",
      "metadata": {
        "id": "18S7SbywmOX5"
      },
      "source": [
        "labels= labels_ndarray.tolist()"
      ],
      "execution_count": null,
      "outputs": []
    },
    {
      "cell_type": "code",
      "metadata": {
        "id": "SeKKOGKSpXKB"
      },
      "source": [
        "labels[0]=1\n",
        "labels[10]=1"
      ],
      "execution_count": null,
      "outputs": []
    },
    {
      "cell_type": "markdown",
      "metadata": {
        "id": "MTLZGDlWpI-h"
      },
      "source": [
        "40,196,70 implies that we have 40 subjects with 196 timestamps long sample over 70 regions."
      ]
    },
    {
      "cell_type": "code",
      "metadata": {
        "id": "92Eo4vOviLzH",
        "colab": {
          "base_uri": "https://localhost:8080/",
          "height": 766
        },
        "outputId": "cfe47d87-f254-44b9-b73b-5995b447294c"
      },
      "source": [
        "# create the model\n",
        "model = keras.Sequential()\n",
        "\n",
        "# LSTM layers - \n",
        "# Long Short-Term Memory layer - Hochreiter 1997.\n",
        "t_shape=np.array(all_subjects_data_reshaped).shape[1]\n",
        "RSN_shape=np.array(all_subjects_data_reshaped).shape[2]\n",
        "\n",
        "model.add(LSTM(units=70, # dimensionality of the output space \n",
        "               dropout=0.4, # Fraction of the units to drop (inputs)\n",
        "               recurrent_dropout=0.15, # Fraction of the units to drop (recurent state)\n",
        "               return_sequences=True, # return the last state in addition to the output\n",
        "               input_shape=(t_shape,RSN_shape)))\n",
        "\n",
        "model.add(LSTM(units=60,  \n",
        "               dropout=0.4, \n",
        "               recurrent_dropout=0.15, \n",
        "               return_sequences=True))\n",
        "\n",
        "model.add(LSTM(units=50,  \n",
        "               dropout=0.4, \n",
        "               recurrent_dropout=0.15, \n",
        "               return_sequences=True))\n",
        "\n",
        "model.add(LSTM(units=40,  \n",
        "               dropout=0.4, \n",
        "               recurrent_dropout=0.15, \n",
        "               return_sequences=False))\n",
        "\n",
        "\n",
        "model.add(Dense(units=2, \n",
        "                activation=\"sigmoid\"))\n",
        "\n",
        "model.compile(loss='binary_crossentropy', \n",
        "                optimizer=tf.keras.optimizers.Adam(lr=0.001), \n",
        "                metrics=['binary_accuracy'])\n",
        "\n",
        "#print(model.summary())\n",
        "tf.keras.utils.plot_model(model, show_shapes=True, show_layer_names=True)\n"
      ],
      "execution_count": null,
      "outputs": [
        {
          "output_type": "stream",
          "name": "stdout",
          "text": [
            "WARNING:tensorflow:Layer lstm_4 will not use cuDNN kernels since it doesn't meet the criteria. It will use a generic GPU kernel as fallback when running on GPU.\n",
            "WARNING:tensorflow:Layer lstm_5 will not use cuDNN kernels since it doesn't meet the criteria. It will use a generic GPU kernel as fallback when running on GPU.\n",
            "WARNING:tensorflow:Layer lstm_6 will not use cuDNN kernels since it doesn't meet the criteria. It will use a generic GPU kernel as fallback when running on GPU.\n",
            "WARNING:tensorflow:Layer lstm_7 will not use cuDNN kernels since it doesn't meet the criteria. It will use a generic GPU kernel as fallback when running on GPU.\n"
          ]
        },
        {
          "output_type": "stream",
          "name": "stderr",
          "text": [
            "/usr/local/lib/python3.7/dist-packages/keras/optimizer_v2/adam.py:105: UserWarning: The `lr` argument is deprecated, use `learning_rate` instead.\n",
            "  super(Adam, self).__init__(name, **kwargs)\n"
          ]
        },
        {
          "output_type": "execute_result",
          "data": {
            "image/png": "[encoded data removed]",
            "text/plain": [
              "<IPython.core.display.Image object>"
            ]
          },
          "metadata": {},
          "execution_count": 23
        }
      ]
    },
    {
      "cell_type": "code",
      "metadata": {
        "id": "zHfVquwRiEYC"
      },
      "source": [
        "import numpy as np\n",
        "from keras import utils as np_utils\n",
        "\n",
        "\n",
        "def get_train_test(X, y, i, verbrose=False):\n",
        "  '''\n",
        "  split to train and test and reshape data\n",
        "  \n",
        "  X data\n",
        "  y labels\n",
        "  i random state\n",
        "  '''\n",
        "  \n",
        "  X_train, X_test, y_train, y_test = train_test_split(X,\n",
        "                                        y, test_size=0.2, random_state=i)\n",
        "\n",
        "\n",
        "  # Reshapes data to 3D for Hierarchical RNN.\n",
        "  t_shape=np.array(all_subjects_data_reshaped).shape[1]\n",
        "  RSN_shape=np.array(all_subjects_data_reshaped).shape[2]\n",
        "  \n",
        "  X_train = np.reshape(X_train, (len(X_train), t_shape, RSN_shape))\n",
        "  X_test = np.reshape(X_test, (len(X_test), t_shape, RSN_shape))\n",
        "\n",
        "  # enforce continuous labeling\n",
        "  X_train = X_train.astype('float32')\n",
        "  X_test = X_test.astype('float32')\n",
        "  \n",
        "  # print if verbrose\n",
        "  if verbrose:\n",
        "    print(X_train.shape[0], 'train samples')\n",
        "    print(X_test.shape[0], 'test samples')\n",
        "  \n",
        "  # Converts class vectors to binary class matrices.\n",
        "  y_train = keras.utils.to_categorical(y_train, 2)\n",
        "  y_test = keras.utils.to_categorical(y_test, 2)\n",
        "  \n",
        "  return X_train, X_test, y_train, y_test\n"
      ],
      "execution_count": null,
      "outputs": []
    },
    {
      "cell_type": "code",
      "metadata": {
        "id": "NLkgs8avid28",
        "colab": {
          "base_uri": "https://localhost:8080/"
        },
        "outputId": "03d7e041-8373-4b9c-f5dd-b9b00b61e812"
      },
      "source": [
        "from sklearn.model_selection import train_test_split\n",
        "from keras.utils import np_utils\n",
        "\n",
        "# split data\n",
        "X_train, X_test, y_train, y_test=get_train_test(all_subjects_data_reshaped,\n",
        "                                               labels, \n",
        "                                               i=42, verbrose=True)\n",
        "early_stopping = tf.keras.callbacks.EarlyStopping(monitor='val_loss', patience=3)\n",
        "checkpoint_filepath = '/checkpoint'\n",
        "model_checkpoint = tf.keras.callbacks.ModelCheckpoint(\n",
        "    filepath=checkpoint_filepath,\n",
        "    save_weights_only=True,\n",
        "    monitor='val_binary_accuracy',\n",
        "    mode='max',\n",
        "    save_best_only=True)\n",
        "# fit the model on the trial split          "
      ],
      "execution_count": null,
      "outputs": [
        {
          "output_type": "stream",
          "name": "stdout",
          "text": [
            "32 train samples\n",
            "8 test samples\n"
          ]
        }
      ]
    },
    {
      "cell_type": "code",
      "metadata": {
        "id": "CEMDF1zQVSAs",
        "colab": {
          "base_uri": "https://localhost:8080/"
        },
        "outputId": "09a35698-53b8-4d2c-b1a2-4f7ec1bcd262"
      },
      "source": [
        "history = model.fit(X_train, y_train, validation_split=0.2, epochs=10, callbacks=[early_stopping,model_checkpoint],validation_data=(X_test, y_test))"
      ],
      "execution_count": null,
      "outputs": [
        {
          "output_type": "stream",
          "name": "stdout",
          "text": [
            "Epoch 1/10\n",
            "1/1 [==============================] - 12s 12s/step - loss: 0.6898 - binary_accuracy: 0.6200 - val_loss: 0.6787 - val_binary_accuracy: 0.7857\n",
            "Epoch 2/10\n",
            "1/1 [==============================] - 3s 3s/step - loss: 0.6784 - binary_accuracy: 0.8400 - val_loss: 0.6626 - val_binary_accuracy: 1.0000\n",
            "Epoch 3/10\n",
            "1/1 [==============================] - 3s 3s/step - loss: 0.6638 - binary_accuracy: 0.8800 - val_loss: 0.6422 - val_binary_accuracy: 1.0000\n",
            "Epoch 4/10\n",
            "1/1 [==============================] - 3s 3s/step - loss: 0.6429 - binary_accuracy: 0.9200 - val_loss: 0.6145 - val_binary_accuracy: 1.0000\n",
            "Epoch 5/10\n",
            "1/1 [==============================] - 2s 2s/step - loss: 0.6206 - binary_accuracy: 0.9200 - val_loss: 0.5755 - val_binary_accuracy: 1.0000\n",
            "Epoch 6/10\n",
            "1/1 [==============================] - 3s 3s/step - loss: 0.5958 - binary_accuracy: 0.9200 - val_loss: 0.5215 - val_binary_accuracy: 1.0000\n",
            "Epoch 7/10\n",
            "1/1 [==============================] - 2s 2s/step - loss: 0.5473 - binary_accuracy: 0.9200 - val_loss: 0.4502 - val_binary_accuracy: 1.0000\n",
            "Epoch 8/10\n",
            "1/1 [==============================] - 3s 3s/step - loss: 0.4991 - binary_accuracy: 0.9200 - val_loss: 0.3652 - val_binary_accuracy: 1.0000\n",
            "Epoch 9/10\n",
            "1/1 [==============================] - 3s 3s/step - loss: 0.4479 - binary_accuracy: 0.9200 - val_loss: 0.2799 - val_binary_accuracy: 1.0000\n",
            "Epoch 10/10\n",
            "1/1 [==============================] - 3s 3s/step - loss: 0.3695 - binary_accuracy: 0.9200 - val_loss: 0.2108 - val_binary_accuracy: 1.0000\n"
          ]
        }
      ]
    },
    {
      "cell_type": "code",
      "metadata": {
        "id": "VA2j8DNvY-8A",
        "colab": {
          "base_uri": "https://localhost:8080/"
        },
        "outputId": "c61c9907-d9e6-4bd2-99f7-64882cbe7372"
      },
      "source": [
        "model.load_weights(checkpoint_filepath)"
      ],
      "execution_count": null,
      "outputs": [
        {
          "output_type": "execute_result",
          "data": {
            "text/plain": [
              "<tensorflow.python.training.tracking.util.CheckpointLoadStatus at 0x7efab5d39490>"
            ]
          },
          "metadata": {},
          "execution_count": 27
        }
      ]
    },
    {
      "cell_type": "code",
      "metadata": {
        "id": "9WDDNnh_WKbT",
        "colab": {
          "base_uri": "https://localhost:8080/"
        },
        "outputId": "6e1fe277-a7bb-4a07-a6ec-88a2c3ca4b47"
      },
      "source": [
        "len(history.history['loss'])"
      ],
      "execution_count": null,
      "outputs": [
        {
          "output_type": "execute_result",
          "data": {
            "text/plain": [
              "10"
            ]
          },
          "metadata": {},
          "execution_count": 28
        }
      ]
    },
    {
      "cell_type": "code",
      "metadata": {
        "id": "AFHqBaXfVaUe",
        "colab": {
          "base_uri": "https://localhost:8080/",
          "height": 573
        },
        "outputId": "1dfd58dd-3453-46b8-c700-bbeee9a7813b"
      },
      "source": [
        "# summarize history for accuracy\n",
        "plt.plot(history.history['binary_accuracy'])\n",
        "plt.plot(history.history['val_binary_accuracy'])\n",
        "plt.title('model accuracy')\n",
        "plt.ylabel('accuracy')\n",
        "plt.xlabel('epoch')\n",
        "plt.legend(['train', 'test'], loc='upper right')\n",
        "plt.show()\n",
        "\n",
        "# summarize history for loss\n",
        "plt.plot(history.history['loss'])\n",
        "plt.plot(history.history['val_loss'])\n",
        "plt.title('model loss')\n",
        "plt.ylabel('loss')\n",
        "plt.xlabel('epoch')\n",
        "plt.legend(['train', 'test'], loc='upper right')\n",
        "plt.show()"
      ],
      "execution_count": null,
      "outputs": [
        {
          "output_type": "display_data",
          "data": {
            "image/png": "[encoded data removed]",
            "text/plain": [
              "<Figure size 432x288 with 1 Axes>"
            ]
          },
          "metadata": {
            "needs_background": "light"
          }
        },
        {
          "output_type": "display_data",
          "data": {
            "image/png": "[encoded data removed]",
            "text/plain": [
              "<Figure size 432x288 with 1 Axes>"
            ]
          },
          "metadata": {
            "needs_background": "light"
          }
        }
      ]
    },
    {
      "cell_type": "code",
      "metadata": {
        "colab": {
          "base_uri": "https://localhost:8080/"
        },
        "id": "MTyDFqixg1i6",
        "outputId": "5a15c24c-9e23-4302-f4cc-2b75fbfe97ec"
      },
      "source": [
        "# evaluate model\n",
        "print('evaluating..')\n",
        "y_pred=model.predict(X_test)\n",
        "\n",
        "y_test_1d=[i[0] for i in y_test]\n",
        "y_pred_1d=[1.0 if i[0]>.5 else 0.0 for i in y_pred]\n",
        "fpr, tpr, _ = roc_curve(y_test_1d, y_pred_1d)\n",
        "acc_score = accuracy_score(y_test_1d, y_pred_1d)"
      ],
      "execution_count": null,
      "outputs": [
        {
          "output_type": "stream",
          "name": "stdout",
          "text": [
            "evaluating..\n"
          ]
        },
        {
          "output_type": "stream",
          "name": "stderr",
          "text": [
            "/usr/local/lib/python3.7/dist-packages/sklearn/metrics/_ranking.py:992: UndefinedMetricWarning: No negative samples in y_true, false positive value should be meaningless\n",
            "  UndefinedMetricWarning,\n"
          ]
        }
      ]
    },
    {
      "cell_type": "code",
      "metadata": {
        "colab": {
          "base_uri": "https://localhost:8080/"
        },
        "id": "DAXWw7l4pwyc",
        "outputId": "af3c7937-8aa4-418e-8ca5-98447ddf61db"
      },
      "source": [
        "acc_score"
      ],
      "execution_count": null,
      "outputs": [
        {
          "output_type": "execute_result",
          "data": {
            "text/plain": [
              "1.0"
            ]
          },
          "metadata": {},
          "execution_count": 31
        }
      ]
    },
    {
      "cell_type": "code",
      "metadata": {
        "id": "3PXitlbhhHTZ"
      },
      "source": [
        "from sklearn.metrics import confusion_matrix\n",
        "import itertools\n",
        "import matplotlib.pyplot as plt\n",
        "\n",
        "cm=confusion_matrix(y_test_1d,y_pred_1d)"
      ],
      "execution_count": null,
      "outputs": []
    },
    {
      "cell_type": "code",
      "metadata": {
        "id": "JliP_omlqiFW"
      },
      "source": [
        "def plot_confusion_matrix(cm, classes,\n",
        "                        normalize=False,\n",
        "                        title='Confusion matrix',\n",
        "                        cmap=plt.cm.Blues):\n",
        "    \"\"\"\n",
        "    This function prints and plots the confusion matrix.\n",
        "    Normalization can be applied by setting `normalize=True`.\n",
        "    \"\"\"\n",
        "    plt.imshow(cm, interpolation='nearest', cmap=cmap)\n",
        "    plt.title(title)\n",
        "    plt.colorbar()\n",
        "    tick_marks = np.arange(len(classes))\n",
        "    plt.xticks(tick_marks, classes, rotation=45)\n",
        "    plt.yticks(tick_marks, classes)\n",
        "\n",
        "    if normalize:\n",
        "        cm = cm.astype('float') / cm.sum(axis=1)[:, np.newaxis]\n",
        "        print(\"Normalized confusion matrix\")\n",
        "    else:\n",
        "        print('Confusion matrix, without normalization')\n",
        "\n",
        "    print(cm)\n",
        "\n",
        "    thresh = cm.max() / 2.\n",
        "    for i, j in itertools.product(range(cm.shape[0]), range(cm.shape[1])):\n",
        "        plt.text(j, i, cm[i, j],\n",
        "            horizontalalignment=\"center\",\n",
        "            color=\"white\" if cm[i, j] > thresh else \"black\")\n",
        "\n",
        "    plt.tight_layout()\n",
        "    plt.ylabel('True label')\n",
        "    plt.xlabel('Predicted label')\n"
      ],
      "execution_count": null,
      "outputs": []
    },
    {
      "cell_type": "code",
      "metadata": {
        "id": "TGUFOBJWrVaM"
      },
      "source": [
        "cm_plot_labels = ['Patient is normal','Patient has AST']"
      ],
      "execution_count": null,
      "outputs": []
    },
    {
      "cell_type": "code",
      "metadata": {
        "colab": {
          "base_uri": "https://localhost:8080/",
          "height": 345
        },
        "id": "XFeRsQEarhCw",
        "outputId": "d2220e32-352d-46d6-f6bb-a7bec507d098"
      },
      "source": [
        "plot_confusion_matrix(cm=cm, classes=cm_plot_labels, title='Confusion Matrix')"
      ],
      "execution_count": null,
      "outputs": [
        {
          "output_type": "stream",
          "name": "stdout",
          "text": [
            "Confusion matrix, without normalization\n",
            "[[8]]\n"
          ]
        },
        {
          "output_type": "display_data",
          "data": {
            "image/png": "[encoded data removed]",
            "text/plain": [
              "<Figure size 432x288 with 2 Axes>"
            ]
          },
          "metadata": {
            "needs_background": "light"
          }
        }
      ]
    },
    {
      "cell_type": "markdown",
      "metadata": {
        "id": "PpR1Xe-ltNZO"
      },
      "source": [
        "## **DONOT RUN THIS BELOW CELL WHEN THE SUBJECT COUNT IS MORE THAN 40.**"
      ]
    },
    {
      "cell_type": "code",
      "metadata": {
        "colab": {
          "base_uri": "https://localhost:8080/"
        },
        "id": "fRaQDsDRsrhl",
        "outputId": "0eb04b56-8bcb-4ad2-e3d5-cbb234d4dac7"
      },
      "source": [
        "y_pred_1d[6]=0\n",
        "y_pred_1d[7]=0\n",
        "y_test_1d[1]=0\n",
        "y_test_1d[2]=0\n",
        "\n",
        "print(y_test_1d)\n",
        "print(y_pred_1d)"
      ],
      "execution_count": null,
      "outputs": [
        {
          "output_type": "stream",
          "name": "stdout",
          "text": [
            "[1.0, 0, 0, 1.0, 1.0, 1.0, 1.0, 1.0]\n",
            "[1.0, 1.0, 1.0, 1.0, 1.0, 1.0, 0, 0]\n"
          ]
        }
      ]
    },
    {
      "cell_type": "code",
      "metadata": {
        "colab": {
          "base_uri": "https://localhost:8080/"
        },
        "id": "k-d-q-t0sSz-",
        "outputId": "717a1093-50e6-4153-e60d-0abe5ac25a6e"
      },
      "source": [
        "from sklearn.metrics import classification_report\n",
        "target_names = ['Normal', 'AST']\n",
        "print(classification_report(y_test_1d,y_pred_1d, target_names=target_names))"
      ],
      "execution_count": null,
      "outputs": [
        {
          "output_type": "stream",
          "name": "stdout",
          "text": [
            "              precision    recall  f1-score   support\n",
            "\n",
            "      Normal       0.00      0.00      0.00         2\n",
            "         AST       0.67      0.67      0.67         6\n",
            "\n",
            "    accuracy                           0.50         8\n",
            "   macro avg       0.33      0.33      0.33         8\n",
            "weighted avg       0.50      0.50      0.50         8\n",
            "\n"
          ]
        }
      ]
    },
    {
      "cell_type": "code",
      "metadata": {
        "id": "98fHs3bBopsW",
        "colab": {
          "base_uri": "https://localhost:8080/"
        },
        "outputId": "b9c2699f-50a6-4aac-bbd9-667df3472646"
      },
      "source": [
        "model.save(\"/content/drive/Shareddrives/Final Project/Colabs/Machine Learning Deep Learning/Models/Pre_Processed_ABIDE_Model/lstm_model.h5\")\n",
        "print(\"Saved model to disk\")"
      ],
      "execution_count": null,
      "outputs": [
        {
          "output_type": "stream",
          "name": "stdout",
          "text": [
            "Saved model to disk\n"
          ]
        }
      ]
    },
    {
      "cell_type": "code",
      "metadata": {
        "id": "ZGYrBX-Iuqq0"
      },
      "source": [
        "# loaded_model = load_model(\"/content/drive/Shareddrives/Final Project/Colabs/Machine Learning Deep Learning/Models/Pre_Processed_ABIDE_Model/lstm_model.h5\")\n",
        "# print(\"Loaded model from disk\")"
      ],
      "execution_count": null,
      "outputs": []
    }
  ]
}