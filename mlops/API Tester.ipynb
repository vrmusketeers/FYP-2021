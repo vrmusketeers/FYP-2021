{
 "cells": [
  {
   "cell_type": "markdown",
   "id": "77e04fe8-f2cd-4350-a3c0-96f3739a86c3",
   "metadata": {},
   "source": [
    "## Sample Request\n"
   ]
  },
  {
   "cell_type": "code",
   "execution_count": 1,
   "id": "27a437c5-d574-4349-a8fa-0d802ba6417d",
   "metadata": {},
   "outputs": [
    {
     "name": "stdout",
     "output_type": "stream",
     "text": [
      "Requirement already satisfied: requests in /opt/conda/lib/python3.7/site-packages (2.25.1)\n",
      "Requirement already satisfied: urllib3<1.27,>=1.21.1 in /opt/conda/lib/python3.7/site-packages (from requests) (1.26.7)\n",
      "Requirement already satisfied: idna<3,>=2.5 in /opt/conda/lib/python3.7/site-packages (from requests) (2.10)\n",
      "Requirement already satisfied: chardet<5,>=3.0.2 in /opt/conda/lib/python3.7/site-packages (from requests) (4.0.0)\n",
      "Requirement already satisfied: certifi>=2017.4.17 in /opt/conda/lib/python3.7/site-packages (from requests) (2021.10.8)\n"
     ]
    }
   ],
   "source": [
    "!pip install requests"
   ]
  },
  {
   "cell_type": "code",
   "execution_count": 150,
   "id": "45c6a411-f937-4376-8724-8c4adbf56428",
   "metadata": {},
   "outputs": [],
   "source": [
    "# importing the requests library\n",
    "import requests\n",
    "import base64\n",
    "import json\n",
    "\n",
    "# defining the api-endpoint \n",
    "API_ENDPOINT = \"https://bidlstm-o-yjmgrhmjwq-uc.a.run.app/predict\"\n",
    "# importing the requests library\n",
    "nii_file = {'nii_file':'Pitt_0050007_func_preproc.nii.gz'}\n",
    "r = requests.post(url = API_ENDPOINT, json = nii_file)"
   ]
  },
  {
   "cell_type": "code",
   "execution_count": 151,
   "id": "7c2c1056-6dd8-4a32-b932-e9badcb20411",
   "metadata": {},
   "outputs": [
    {
     "name": "stdout",
     "output_type": "stream",
     "text": [
      "{\"predictions\":[[0.5286981463432312,0.46851107478141785]]}\n",
      "\n"
     ]
    }
   ],
   "source": [
    "print(r.text)"
   ]
  }
 ],
 "metadata": {
  "environment": {
   "name": "tf2-gpu.2-6.m81",
   "type": "gcloud",
   "uri": "gcr.io/deeplearning-platform-release/tf2-gpu.2-6:m81"
  },
  "kernelspec": {
   "display_name": "Python 3",
   "language": "python",
   "name": "python3"
  },
  "language_info": {
   "codemirror_mode": {
    "name": "ipython",
    "version": 3
   },
   "file_extension": ".py",
   "mimetype": "text/x-python",
   "name": "python",
   "nbconvert_exporter": "python",
   "pygments_lexer": "ipython3",
   "version": "3.7.10"
  }
 },
 "nbformat": 4,
 "nbformat_minor": 5
}
